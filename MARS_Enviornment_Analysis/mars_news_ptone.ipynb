{
 "cells": [
  {
   "cell_type": "markdown",
   "id": "102390a9-415e-4179-9bb2-705272660c34",
   "metadata": {},
   "source": [
    "# News From Mars "
   ]
  },
  {
   "cell_type": "markdown",
   "id": "edd04ccf-12b1-42a4-a55c-56b1ec1e6d96",
   "metadata": {},
   "source": [
    "## Part One, Scrape and Preview Text from MARS Website"
   ]
  },
  {
   "cell_type": "code",
   "execution_count": 9,
   "id": "1c3fe79d-4163-45c3-8482-486ba02429c4",
   "metadata": {},
   "outputs": [],
   "source": [
    "# Import Splinter and BeautifulSoup\n",
    "from splinter import Browser\n",
    "from bs4 import BeautifulSoup as soup"
   ]
  },
  {
   "cell_type": "code",
   "execution_count": 10,
   "id": "5075965b-d189-4d33-bc60-724eb1d257cc",
   "metadata": {
    "tags": []
   },
   "outputs": [],
   "source": [
    "#open chrome browser\n",
    "browser = Browser('chrome')"
   ]
  },
  {
   "cell_type": "markdown",
   "id": "520ab369-f739-4fe9-8511-030b1101a4c9",
   "metadata": {},
   "source": [
    "## Visit the Website via Automated Browsing\n",
    "### First inspect the website with chrome developer to identify what information to scrape"
   ]
  },
  {
   "cell_type": "code",
   "execution_count": 11,
   "id": "4f0927bb-6aef-42d1-bc51-cfc736b5a8f1",
   "metadata": {
    "tags": []
   },
   "outputs": [],
   "source": [
    "# Visit the Mars news site\n",
    "url = 'https://static.bc-edx.com/data/web/mars_news/index.html'\n",
    "browser.visit(url)"
   ]
  },
  {
   "cell_type": "markdown",
   "id": "a45a2ee7-a7a3-4335-8587-1a3cf17cd497",
   "metadata": {},
   "source": [
    "## Begin Scraping the Website\n",
    "### Extract text elements from the website via a beautiful soup object."
   ]
  },
  {
   "cell_type": "code",
   "execution_count": 12,
   "id": "28b86092-f441-457f-828b-6ac5f74962cb",
   "metadata": {
    "tags": []
   },
   "outputs": [],
   "source": [
    "# Create a Beautiful Soup object\n",
    "html = browser.html\n",
    "soup_obj = soup(html, 'html.parser')"
   ]
  },
  {
   "cell_type": "code",
   "execution_count": 13,
   "id": "27c5be0c-1e0a-47c8-b4b3-8a732c1611b7",
   "metadata": {
    "tags": []
   },
   "outputs": [],
   "source": [
    "# Extract all the text elements\n",
    "data_list_obj = soup_obj.find_all('div', class_ = 'list_text')"
   ]
  },
  {
   "cell_type": "markdown",
   "id": "6fed4b09-7f05-4dc7-a951-34d906e15c3f",
   "metadata": {},
   "source": [
    "## Save the Results\n",
    "\n",
    "### Extract and store the titles and previews of the articles scraped, and store them in a python dictionary with two keys, 'title' and 'preview'.\n",
    "\n",
    "### Finally, store the dictionaries in an empty python list, and print that list to see the scraped results. "
   ]
  },
  {
   "cell_type": "code",
   "execution_count": 14,
   "id": "fbc67c80-f7a8-4e20-9afe-9556e840b3e6",
   "metadata": {
    "tags": []
   },
   "outputs": [],
   "source": [
    "# Create an empty list to store the dictionaries\n",
    "title_preview_list = []"
   ]
  },
  {
   "cell_type": "code",
   "execution_count": 15,
   "id": "8f82ce82-9a89-4bc8-b323-38f3106bf410",
   "metadata": {
    "tags": []
   },
   "outputs": [],
   "source": [
    "mars_news_dict={data.find('div', class_ = 'content_title').text.strip():data.find('div', class_ = 'article_teaser_body').text.strip() for data in data_list_obj }\n",
    "title_preview_list.append(mars_news_dict)"
   ]
  },
  {
   "cell_type": "code",
   "execution_count": 16,
   "id": "56de3a38-8454-42eb-b3d2-a5e8a8df423b",
   "metadata": {
    "tags": []
   },
   "outputs": [
    {
     "data": {
      "text/plain": [
       "[{\"NASA's MAVEN Observes Martian Light Show Caused by Major Solar Storm\": 'For the first time in its eight years orbiting Mars, NASA’s MAVEN mission witnessed two different types of ultraviolet aurorae simultaneously, the result of solar storms that began on Aug. 27.',\n",
       "  \"NASA Prepares to Say 'Farewell' to InSight Spacecraft\": 'A closer look at what goes into wrapping up the mission as the spacecraft’s power supply continues to dwindle.',\n",
       "  'NASA and ESA Agree on Next Steps to Return Mars Samples to Earth': 'The agency’s Perseverance rover will establish the first sample depot on Mars.',\n",
       "  \"NASA's InSight Lander Detects Stunning Meteoroid Impact on Mars\": 'The agency’s lander felt the ground shake during the impact while cameras aboard the Mars Reconnaissance Orbiter spotted the yawning new crater from space.',\n",
       "  'NASA To Host Briefing on InSight, Mars Reconnaissance Orbiter Findings': 'Scientists from two Mars missions will discuss how they combined images and data for a major finding on the Red Planet.',\n",
       "  'Why NASA Is Trying To Crash Land on Mars': 'Like a car’s crumple zone, the experimental SHIELD lander is designed to absorb a hard impact.',\n",
       "  'Curiosity Mars Rover Reaches Long-Awaited Salty Region': 'After years of climbing, the Mars rover has arrived at a special region believed to have formed as Mars’ climate was drying.',\n",
       "  'Mars Mission Shields Up for Tests': 'Protecting Mars Sample Return spacecraft from micrometeorites requires high-caliber work.',\n",
       "  \"NASA's InSight Waits Out Dust Storm\": 'InSight’s team is taking steps to help the solar-powered lander continue operating for as long as possible.',\n",
       "  \"NASA's InSight 'Hears' Its First Meteoroid Impacts on Mars\": 'The Mars lander’s seismometer has picked up vibrations from four separate impacts in the past two years.',\n",
       "  \"NASA's Perseverance Rover Investigates Geologically Rich Mars Terrain\": 'The latest findings provide greater detail on a region of the Red Planet that has a watery past and is yielding promising samples for the NASA-ESA Mars Sample Return campaign.',\n",
       "  'NASA to Host Briefing on Perseverance Mars Rover Mission Operations': 'Members of the mission will discuss the rover’s activities as it gathers samples in an ancient river delta.',\n",
       "  \"NASA's Perseverance Makes New Discoveries in Mars' Jezero Crater\": 'The rover found that Jezero Crater’s floor is made up of volcanic rocks that have interacted with water.',\n",
       "  \"10 Years Since Landing, NASA's Curiosity Mars Rover Still Has Drive\": 'Despite signs of wear, the intrepid spacecraft is about to start an exciting new chapter of its mission as it climbs a Martian mountain.',\n",
       "  \"SAM's Top 5 Discoveries Aboard NASA's Curiosity Rover at Mars\": '“Selfie” of the Curiosity rover with inset showing the SAM instrument prior to installation on the rover.'}]"
      ]
     },
     "execution_count": 16,
     "metadata": {},
     "output_type": "execute_result"
    }
   ],
   "source": [
    "# Print the list to confirm success\n",
    "title_preview_list"
   ]
  },
  {
   "cell_type": "code",
   "execution_count": null,
   "id": "99bc40a6-9ae6-4ede-b2f9-2ac2d371c76b",
   "metadata": {},
   "outputs": [],
   "source": [
    "#quit the browser\n",
    "browser.quit()"
   ]
  }
 ],
 "metadata": {
  "kernelspec": {
   "display_name": "Python 3 (ipykernel)",
   "language": "python",
   "name": "python3"
  },
  "language_info": {
   "codemirror_mode": {
    "name": "ipython",
    "version": 3
   },
   "file_extension": ".py",
   "mimetype": "text/x-python",
   "name": "python",
   "nbconvert_exporter": "python",
   "pygments_lexer": "ipython3",
   "version": "3.10.13"
  }
 },
 "nbformat": 4,
 "nbformat_minor": 5
}
